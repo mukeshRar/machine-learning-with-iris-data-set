{
 "cells": [
  {
   "cell_type": "markdown",
   "metadata": {},
   "source": [
    "# Machine Learning using iris dataset"
   ]
  },
  {
   "cell_type": "markdown",
   "metadata": {},
   "source": [
    "# Here is my dataset\n",
    "''''Id,SepalLengthCm,SepalWidthCm,PetalLengthCm,PetalWidthCm,Species\n",
    "1,5.1,3.5,1.4,0.2,Iris-setosa\n",
    "2,4.9,3.0,1.4,0.2,Iris-setosa\n",
    "3,4.7,3.2,1.3,0.2,Iris-setosa\n",
    "4,4.6,3.1,1.5,0.2,Iris-setosa\n",
    "5,5.0,3.6,1.4,0.2,Iris-setosa\n",
    "6,5.4,3.9,1.7,0.4,Iris-setosa\n",
    "7,4.6,3.4,1.4,0.3,Iris-setosa\n",
    "8,5.0,3.4,1.5,0.2,Iris-setosa\n",
    "9,4.4,2.9,1.4,0.2,Iris-setosa\n",
    "10,4.9,3.1,1.5,0.1,Iris-setosa\n",
    "11,5.4,3.7,1.5,0.2,Iris-setosa\n",
    "12,4.8,3.4,1.6,0.2,Iris-setosa\n",
    "13,4.8,3.0,1.4,0.1,Iris-setosa\n",
    "14,4.3,3.0,1.1,0.1,Iris-setosa\n",
    "15,5.8,4.0,1.2,0.2,Iris-setosa\n",
    "16,5.7,4.4,1.5,0.4,Iris-setosa\n",
    "17,5.4,3.9,1.3,0.4,Iris-setosa\n",
    "18,5.1,3.5,1.4,0.3,Iris-setosa\n",
    "19,5.7,3.8,1.7,0.3,Iris-setosa\n",
    "20,5.1,3.8,1.5,0.3,Iris-setosa\n",
    "21,5.4,3.4,1.7,0.2,Iris-setosa\n",
    "22,5.1,3.7,1.5,0.4,Iris-setosa\n",
    "23,4.6,3.6,1.0,0.2,Iris-setosa\n",
    "24,5.1,3.3,1.7,0.5,Iris-setosa\n",
    "25,4.8,3.4,1.9,0.2,Iris-setosa\n",
    "26,5.0,3.0,1.6,0.2,Iris-setosa\n",
    "27,5.0,3.4,1.6,0.4,Iris-setosa\n",
    "28,5.2,3.5,1.5,0.2,Iris-setosa\n",
    "29,5.2,3.4,1.4,0.2,Iris-setosa\n",
    "30,4.7,3.2,1.6,0.2,Iris-setosa\n",
    "31,4.8,3.1,1.6,0.2,Iris-setosa\n",
    "32,5.4,3.4,1.5,0.4,Iris-setosa\n",
    "33,5.2,4.1,1.5,0.1,Iris-setosa\n",
    "34,5.5,4.2,1.4,0.2,Iris-setosa\n",
    "35,4.9,3.1,1.5,0.1,Iris-setosa\n",
    "36,5.0,3.2,1.2,0.2,Iris-setosa\n",
    "37,5.5,3.5,1.3,0.2,Iris-setosa\n",
    "38,4.9,3.1,1.5,0.1,Iris-setosa\n",
    "39,4.4,3.0,1.3,0.2,Iris-setosa\n",
    "40,5.1,3.4,1.5,0.2,Iris-setosa\n",
    "41,5.0,3.5,1.3,0.3,Iris-setosa\n",
    "42,4.5,2.3,1.3,0.3,Iris-setosa\n",
    "43,4.4,3.2,1.3,0.2,Iris-setosa\n",
    "44,5.0,3.5,1.6,0.6,Iris-setosa\n",
    "45,5.1,3.8,1.9,0.4,Iris-setosa\n",
    "46,4.8,3.0,1.4,0.3,Iris-setosa\n",
    "47,5.1,3.8,1.6,0.2,Iris-setosa\n",
    "48,4.6,3.2,1.4,0.2,Iris-setosa\n",
    "49,5.3,3.7,1.5,0.2,Iris-setosa\n",
    "50,5.0,3.3,1.4,0.2,Iris-setosa\n",
    "51,7.0,3.2,4.7,1.4,Iris-versicolor\n",
    "52,6.4,3.2,4.5,1.5,Iris-versicolor\n",
    "53,6.9,3.1,4.9,1.5,Iris-versicolor\n",
    "54,5.5,2.3,4.0,1.3,Iris-versicolor\n",
    "55,6.5,2.8,4.6,1.5,Iris-versicolor\n",
    "56,5.7,2.8,4.5,1.3,Iris-versicolor\n",
    "57,6.3,3.3,4.7,1.6,Iris-versicolor\n",
    "58,4.9,2.4,3.3,1.0,Iris-versicolor\n",
    "59,6.6,2.9,4.6,1.3,Iris-versicolor\n",
    "60,5.2,2.7,3.9,1.4,Iris-versicolor\n",
    "61,5.0,2.0,3.5,1.0,Iris-versicolor\n",
    "62,5.9,3.0,4.2,1.5,Iris-versicolor\n",
    "63,6.0,2.2,4.0,1.0,Iris-versicolor\n",
    "64,6.1,2.9,4.7,1.4,Iris-versicolor\n",
    "65,5.6,2.9,3.6,1.3,Iris-versicolor\n",
    "66,6.7,3.1,4.4,1.4,Iris-versicolor\n",
    "67,5.6,3.0,4.5,1.5,Iris-versicolor\n",
    "68,5.8,2.7,4.1,1.0,Iris-versicolor\n",
    "69,6.2,2.2,4.5,1.5,Iris-versicolor\n",
    "70,5.6,2.5,3.9,1.1,Iris-versicolor\n",
    "71,5.9,3.2,4.8,1.8,Iris-versicolor\n",
    "72,6.1,2.8,4.0,1.3,Iris-versicolor\n",
    "73,6.3,2.5,4.9,1.5,Iris-versicolor\n",
    "74,6.1,2.8,4.7,1.2,Iris-versicolor\n",
    "75,6.4,2.9,4.3,1.3,Iris-versicolor\n",
    "76,6.6,3.0,4.4,1.4,Iris-versicolor\n",
    "77,6.8,2.8,4.8,1.4,Iris-versicolor\n",
    "78,6.7,3.0,5.0,1.7,Iris-versicolor\n",
    "79,6.0,2.9,4.5,1.5,Iris-versicolor\n",
    "80,5.7,2.6,3.5,1.0,Iris-versicolor\n",
    "81,5.5,2.4,3.8,1.1,Iris-versicolor\n",
    "82,5.5,2.4,3.7,1.0,Iris-versicolor\n",
    "83,5.8,2.7,3.9,1.2,Iris-versicolor\n",
    "84,6.0,2.7,5.1,1.6,Iris-versicolor\n",
    "85,5.4,3.0,4.5,1.5,Iris-versicolor\n",
    "86,6.0,3.4,4.5,1.6,Iris-versicolor\n",
    "87,6.7,3.1,4.7,1.5,Iris-versicolor\n",
    "88,6.3,2.3,4.4,1.3,Iris-versicolor\n",
    "89,5.6,3.0,4.1,1.3,Iris-versicolor\n",
    "90,5.5,2.5,4.0,1.3,Iris-versicolor\n",
    "91,5.5,2.6,4.4,1.2,Iris-versicolor\n",
    "92,6.1,3.0,4.6,1.4,Iris-versicolor\n",
    "93,5.8,2.6,4.0,1.2,Iris-versicolor\n",
    "94,5.0,2.3,3.3,1.0,Iris-versicolor\n",
    "95,5.6,2.7,4.2,1.3,Iris-versicolor\n",
    "96,5.7,3.0,4.2,1.2,Iris-versicolor\n",
    "97,5.7,2.9,4.2,1.3,Iris-versicolor\n",
    "98,6.2,2.9,4.3,1.3,Iris-versicolor\n",
    "99,5.1,2.5,3.0,1.1,Iris-versicolor\n",
    "100,5.7,2.8,4.1,1.3,Iris-versicolor\n",
    "101,6.3,3.3,6.0,2.5,Iris-virginica\n",
    "102,5.8,2.7,5.1,1.9,Iris-virginica\n",
    "103,7.1,3.0,5.9,2.1,Iris-virginica\n",
    "104,6.3,2.9,5.6,1.8,Iris-virginica\n",
    "105,6.5,3.0,5.8,2.2,Iris-virginica\n",
    "106,7.6,3.0,6.6,2.1,Iris-virginica\n",
    "107,4.9,2.5,4.5,1.7,Iris-virginica\n",
    "108,7.3,2.9,6.3,1.8,Iris-virginica\n",
    "109,6.7,2.5,5.8,1.8,Iris-virginica\n",
    "110,7.2,3.6,6.1,2.5,Iris-virginica\n",
    "111,6.5,3.2,5.1,2.0,Iris-virginica\n",
    "112,6.4,2.7,5.3,1.9,Iris-virginica\n",
    "113,6.8,3.0,5.5,2.1,Iris-virginica\n",
    "114,5.7,2.5,5.0,2.0,Iris-virginica\n",
    "115,5.8,2.8,5.1,2.4,Iris-virginica\n",
    "116,6.4,3.2,5.3,2.3,Iris-virginica\n",
    "117,6.5,3.0,5.5,1.8,Iris-virginica\n",
    "118,7.7,3.8,6.7,2.2,Iris-virginica\n",
    "119,7.7,2.6,6.9,2.3,Iris-virginica\n",
    "120,6.0,2.2,5.0,1.5,Iris-virginica\n",
    "121,6.9,3.2,5.7,2.3,Iris-virginica\n",
    "122,5.6,2.8,4.9,2.0,Iris-virginica\n",
    "123,7.7,2.8,6.7,2.0,Iris-virginica\n",
    "124,6.3,2.7,4.9,1.8,Iris-virginica\n",
    "125,6.7,3.3,5.7,2.1,Iris-virginica\n",
    "126,7.2,3.2,6.0,1.8,Iris-virginica\n",
    "127,6.2,2.8,4.8,1.8,Iris-virginica\n",
    "128,6.1,3.0,4.9,1.8,Iris-virginica\n",
    "129,6.4,2.8,5.6,2.1,Iris-virginica\n",
    "130,7.2,3.0,5.8,1.6,Iris-virginica\n",
    "131,7.4,2.8,6.1,1.9,Iris-virginica\n",
    "132,7.9,3.8,6.4,2.0,Iris-virginica\n",
    "133,6.4,2.8,5.6,2.2,Iris-virginica\n",
    "134,6.3,2.8,5.1,1.5,Iris-virginica\n",
    "135,6.1,2.6,5.6,1.4,Iris-virginica\n",
    "136,7.7,3.0,6.1,2.3,Iris-virginica\n",
    "137,6.3,3.4,5.6,2.4,Iris-virginica\n",
    "138,6.4,3.1,5.5,1.8,Iris-virginica\n",
    "139,6.0,3.0,4.8,1.8,Iris-virginica\n",
    "140,6.9,3.1,5.4,2.1,Iris-virginica\n",
    "141,6.7,3.1,5.6,2.4,Iris-virginica\n",
    "142,6.9,3.1,5.1,2.3,Iris-virginica\n",
    "143,5.8,2.7,5.1,1.9,Iris-virginica\n",
    "144,6.8,3.2,5.9,2.3,Iris-virginica\n",
    "145,6.7,3.3,5.7,2.5,Iris-virginica\n",
    "146,6.7,3.0,5.2,2.3,Iris-virginica\n",
    "147,6.3,2.5,5.0,1.9,Iris-virginica\n",
    "148,6.5,3.0,5.2,2.0,Iris-virginica\n",
    "149,6.2,3.4,5.4,2.3,Iris-virginica\n",
    "150,5.9,3.0,5.1,1.8,Iris-virginica\n",
    "''''"
   ]
  },
  {
   "cell_type": "code",
   "execution_count": 97,
   "metadata": {},
   "outputs": [],
   "source": [
    "#import libraries\n",
    "%matplotlib inline\n",
    "import numpy as np\n",
    "import pandas as pd\n",
    "import matplotlib.pyplot as plt\n",
    "import seaborn as sns"
   ]
  },
  {
   "cell_type": "code",
   "execution_count": 98,
   "metadata": {},
   "outputs": [],
   "source": [
    "#load csv file(data)\n",
    "iris=pd.read_csv('iris1.csv')"
   ]
  },
  {
   "cell_type": "code",
   "execution_count": 99,
   "metadata": {},
   "outputs": [
    {
     "data": {
      "text/html": [
       "<div>\n",
       "<style scoped>\n",
       "    .dataframe tbody tr th:only-of-type {\n",
       "        vertical-align: middle;\n",
       "    }\n",
       "\n",
       "    .dataframe tbody tr th {\n",
       "        vertical-align: top;\n",
       "    }\n",
       "\n",
       "    .dataframe thead th {\n",
       "        text-align: right;\n",
       "    }\n",
       "</style>\n",
       "<table border=\"1\" class=\"dataframe\">\n",
       "  <thead>\n",
       "    <tr style=\"text-align: right;\">\n",
       "      <th></th>\n",
       "      <th>Id</th>\n",
       "      <th>SepalLengthCm</th>\n",
       "      <th>SepalWidthCm</th>\n",
       "      <th>PetalLengthCm</th>\n",
       "      <th>PetalWidthCm</th>\n",
       "      <th>Species</th>\n",
       "    </tr>\n",
       "  </thead>\n",
       "  <tbody>\n",
       "    <tr>\n",
       "      <td>0</td>\n",
       "      <td>1</td>\n",
       "      <td>5.1</td>\n",
       "      <td>3.5</td>\n",
       "      <td>1.4</td>\n",
       "      <td>0.2</td>\n",
       "      <td>Iris-setosa</td>\n",
       "    </tr>\n",
       "    <tr>\n",
       "      <td>1</td>\n",
       "      <td>2</td>\n",
       "      <td>4.9</td>\n",
       "      <td>3.0</td>\n",
       "      <td>1.4</td>\n",
       "      <td>0.2</td>\n",
       "      <td>Iris-setosa</td>\n",
       "    </tr>\n",
       "    <tr>\n",
       "      <td>2</td>\n",
       "      <td>3</td>\n",
       "      <td>4.7</td>\n",
       "      <td>3.2</td>\n",
       "      <td>1.3</td>\n",
       "      <td>0.2</td>\n",
       "      <td>Iris-setosa</td>\n",
       "    </tr>\n",
       "    <tr>\n",
       "      <td>3</td>\n",
       "      <td>4</td>\n",
       "      <td>4.6</td>\n",
       "      <td>3.1</td>\n",
       "      <td>1.5</td>\n",
       "      <td>0.2</td>\n",
       "      <td>Iris-setosa</td>\n",
       "    </tr>\n",
       "    <tr>\n",
       "      <td>4</td>\n",
       "      <td>5</td>\n",
       "      <td>5.0</td>\n",
       "      <td>3.6</td>\n",
       "      <td>1.4</td>\n",
       "      <td>0.2</td>\n",
       "      <td>Iris-setosa</td>\n",
       "    </tr>\n",
       "  </tbody>\n",
       "</table>\n",
       "</div>"
      ],
      "text/plain": [
       "   Id  SepalLengthCm  SepalWidthCm  PetalLengthCm  PetalWidthCm      Species\n",
       "0   1            5.1           3.5            1.4           0.2  Iris-setosa\n",
       "1   2            4.9           3.0            1.4           0.2  Iris-setosa\n",
       "2   3            4.7           3.2            1.3           0.2  Iris-setosa\n",
       "3   4            4.6           3.1            1.5           0.2  Iris-setosa\n",
       "4   5            5.0           3.6            1.4           0.2  Iris-setosa"
      ]
     },
     "execution_count": 99,
     "metadata": {},
     "output_type": "execute_result"
    }
   ],
   "source": [
    "#showing top 5 elements\n",
    "iris.head()"
   ]
  },
  {
   "cell_type": "code",
   "execution_count": 105,
   "metadata": {},
   "outputs": [
    {
     "name": "stdout",
     "output_type": "stream",
     "text": [
      "<class 'pandas.core.frame.DataFrame'>\n",
      "RangeIndex: 150 entries, 0 to 149\n",
      "Data columns (total 5 columns):\n",
      "SepalLengthCm    150 non-null float64\n",
      "SepalWidthCm     150 non-null float64\n",
      "PetalLengthCm    150 non-null float64\n",
      "PetalWidthCm     150 non-null float64\n",
      "Species          150 non-null object\n",
      "dtypes: float64(4), object(1)\n",
      "memory usage: 6.0+ KB\n"
     ]
    }
   ],
   "source": [
    "iris.info()"
   ]
  },
  {
   "cell_type": "code",
   "execution_count": null,
   "metadata": {},
   "outputs": [],
   "source": [
    "iris.drop('Id',axis=1,inplace=True) #dropping the Id column as it is unecessary, axis=1 specifies that it should be column wise, inplace =1 means the changes should be reflected into the dataframe"
   ]
  },
  {
   "cell_type": "code",
   "execution_count": 36,
   "metadata": {},
   "outputs": [
    {
     "data": {
      "text/html": [
       "<div>\n",
       "<style scoped>\n",
       "    .dataframe tbody tr th:only-of-type {\n",
       "        vertical-align: middle;\n",
       "    }\n",
       "\n",
       "    .dataframe tbody tr th {\n",
       "        vertical-align: top;\n",
       "    }\n",
       "\n",
       "    .dataframe thead th {\n",
       "        text-align: right;\n",
       "    }\n",
       "</style>\n",
       "<table border=\"1\" class=\"dataframe\">\n",
       "  <thead>\n",
       "    <tr style=\"text-align: right;\">\n",
       "      <th></th>\n",
       "      <th>SepalLengthCm</th>\n",
       "      <th>SepalWidthCm</th>\n",
       "      <th>PetalLengthCm</th>\n",
       "      <th>PetalWidthCm</th>\n",
       "      <th>Species</th>\n",
       "    </tr>\n",
       "  </thead>\n",
       "  <tbody>\n",
       "    <tr>\n",
       "      <td>0</td>\n",
       "      <td>5.1</td>\n",
       "      <td>3.5</td>\n",
       "      <td>1.4</td>\n",
       "      <td>0.2</td>\n",
       "      <td>Iris-setosa</td>\n",
       "    </tr>\n",
       "    <tr>\n",
       "      <td>1</td>\n",
       "      <td>4.9</td>\n",
       "      <td>3.0</td>\n",
       "      <td>1.4</td>\n",
       "      <td>0.2</td>\n",
       "      <td>Iris-setosa</td>\n",
       "    </tr>\n",
       "    <tr>\n",
       "      <td>2</td>\n",
       "      <td>4.7</td>\n",
       "      <td>3.2</td>\n",
       "      <td>1.3</td>\n",
       "      <td>0.2</td>\n",
       "      <td>Iris-setosa</td>\n",
       "    </tr>\n",
       "    <tr>\n",
       "      <td>3</td>\n",
       "      <td>4.6</td>\n",
       "      <td>3.1</td>\n",
       "      <td>1.5</td>\n",
       "      <td>0.2</td>\n",
       "      <td>Iris-setosa</td>\n",
       "    </tr>\n",
       "    <tr>\n",
       "      <td>4</td>\n",
       "      <td>5.0</td>\n",
       "      <td>3.6</td>\n",
       "      <td>1.4</td>\n",
       "      <td>0.2</td>\n",
       "      <td>Iris-setosa</td>\n",
       "    </tr>\n",
       "  </tbody>\n",
       "</table>\n",
       "</div>"
      ],
      "text/plain": [
       "   SepalLengthCm  SepalWidthCm  PetalLengthCm  PetalWidthCm      Species\n",
       "0            5.1           3.5            1.4           0.2  Iris-setosa\n",
       "1            4.9           3.0            1.4           0.2  Iris-setosa\n",
       "2            4.7           3.2            1.3           0.2  Iris-setosa\n",
       "3            4.6           3.1            1.5           0.2  Iris-setosa\n",
       "4            5.0           3.6            1.4           0.2  Iris-setosa"
      ]
     },
     "execution_count": 36,
     "metadata": {},
     "output_type": "execute_result"
    }
   ],
   "source": [
    "iris.head()"
   ]
  },
  {
   "cell_type": "code",
   "execution_count": 37,
   "metadata": {},
   "outputs": [
    {
     "data": {
      "image/png": "[encoded data removed]",
      "text/plain": [
       "<Figure size 720x432 with 1 Axes>"
      ]
     },
     "metadata": {
      "needs_background": "light"
     },
     "output_type": "display_data"
    }
   ],
   "source": [
    "fig = iris[iris.Species=='Iris-setosa'].plot(kind='scatter',x='SepalLengthCm',y='SepalWidthCm',color='orange', label='Setosa')\n",
    "iris[iris.Species=='Iris-versicolor'].plot(kind='scatter',x='SepalLengthCm',y='SepalWidthCm',color='blue', label='versicolor',ax=fig)\n",
    "iris[iris.Species=='Iris-virginica'].plot(kind='scatter',x='SepalLengthCm',y='SepalWidthCm',color='green', label='virginica', ax=fig)\n",
    "fig.set_xlabel(\"Sepal Length\")\n",
    "fig.set_ylabel(\"Sepal Width\")\n",
    "fig.set_title(\"Sepal Length VS Width\")\n",
    "fig=plt.gcf()\n",
    "fig.set_size_inches(10,6)\n",
    "plt.show()"
   ]
  },
  {
   "cell_type": "code",
   "execution_count": 38,
   "metadata": {},
   "outputs": [
    {
     "data": {
      "image/png": "[encoded data removed]",
      "text/plain": [
       "<Figure size 720x432 with 1 Axes>"
      ]
     },
     "metadata": {
      "needs_background": "light"
     },
     "output_type": "display_data"
    }
   ],
   "source": [
    "fig=iris[iris.Species=='Iris-setosa'].plot(kind='scatter', x='PetalLengthCm', y='PetalWidthCm', color='orange', label='Setosa')\n",
    "iris[iris.Species=='Iris-versicolor'].plot(kind='scatter', x='PetalLengthCm', y='PetalWidthCm', color='blue', label='Versicolor',ax=fig)\n",
    "iris[iris.Species=='Iris-virginica'].plot(kind='scatter', x='PetalLengthCm', y='PetalWidthCm', color='green', label='Virginica',ax=fig)\n",
    "fig.set_xlabel(\"Sepal Length\")\n",
    "fig.set_ylabel(\"Sepal Width\")\n",
    "fig.set_title(\"Sepal Length VS Width\")\n",
    "fig=plt.gcf()\n",
    "fig.set_size_inches(10,6)\n",
    "plt.show()"
   ]
  },
  {
   "cell_type": "code",
   "execution_count": 39,
   "metadata": {},
   "outputs": [
    {
     "data": {
      "image/png": "[encoded data removed]",
      "text/plain": [
       "<Figure size 864x432 with 4 Axes>"
      ]
     },
     "metadata": {
      "needs_background": "light"
     },
     "output_type": "display_data"
    }
   ],
   "source": [
    "iris.hist(edgecolor='black', linewidth=1.2)\n",
    "fig=plt.gcf()\n",
    "fig.set_size_inches(12,6)\n",
    "plt.show()"
   ]
  },
  {
   "cell_type": "code",
   "execution_count": 41,
   "metadata": {},
   "outputs": [
    {
     "data": {
      "text/plain": [
       "<matplotlib.axes._subplots.AxesSubplot at 0x2516c118a08>"
      ]
     },
     "execution_count": 41,
     "metadata": {},
     "output_type": "execute_result"
    },
    {
     "data": {
      "image/png": "[encoded data removed]",
      "text/plain": [
       "<Figure size 1080x720 with 4 Axes>"
      ]
     },
     "metadata": {
      "needs_background": "light"
     },
     "output_type": "display_data"
    }
   ],
   "source": [
    "plt.figure(figsize=(15,10))\n",
    "plt.subplot(2,2,1)\n",
    "sns.violinplot(x='Species', y='PetalLengthCm',data=iris)\n",
    "plt.subplot(2,2,2)\n",
    "sns.violinplot(x='Species', y='PetalWidthCm', data=iris)\n",
    "plt.subplot(2,2,3)\n",
    "sns.violinplot(x='Species', y='SepalLengthCm', data=iris)\n",
    "plt.subplot(2,2,4)\n",
    "sns.violinplot(x='Species', y='SepalWidthCm' ,data=iris)\n",
    "\n"
   ]
  },
  {
   "cell_type": "code",
   "execution_count": 74,
   "metadata": {},
   "outputs": [],
   "source": [
    "from sklearn.linear_model import LogisticRegression  # for Logistic Regression algorithm\n",
    "from sklearn.model_selection import train_test_split #to split the dataset for training and testing\n",
    "from sklearn.neighbors import KNeighborsClassifier  # for K nearest neighbours\n",
    "from sklearn import svm  #for Support Vector Machine (SVM) Algorithm\n",
    "from sklearn import metrics #for checking the model accuracy\n",
    "from sklearn.tree import DecisionTreeClassifier #for using Decision Tree Algoithm"
   ]
  },
  {
   "cell_type": "code",
   "execution_count": 75,
   "metadata": {},
   "outputs": [
    {
     "data": {
      "text/plain": [
       "(150, 5)"
      ]
     },
     "execution_count": 75,
     "metadata": {},
     "output_type": "execute_result"
    }
   ],
   "source": [
    "iris.shape"
   ]
  },
  {
   "cell_type": "code",
   "execution_count": 77,
   "metadata": {},
   "outputs": [
    {
     "data": {
      "image/png": "[encoded data removed]",
      "text/plain": [
       "<Figure size 504x288 with 2 Axes>"
      ]
     },
     "metadata": {
      "needs_background": "light"
     },
     "output_type": "display_data"
    }
   ],
   "source": [
    "plt.figure(figsize=(7,4)) \n",
    "sns.heatmap(iris.corr(),annot=True,cmap='cubehelix_r') #draws  heatmap with input as the correlation matrix calculted by(iris.corr())\n",
    "plt.show()"
   ]
  },
  {
   "cell_type": "code",
   "execution_count": 78,
   "metadata": {},
   "outputs": [
    {
     "name": "stdout",
     "output_type": "stream",
     "text": [
      "(105, 5)\n",
      "(45, 5)\n"
     ]
    }
   ],
   "source": [
    "train, test = train_test_split(iris, test_size = 0.3)# in this our main data is split into train and test\n",
    "# the attribute test_size=0.3 splits the data into 70% and 30% ratio. train=70% and test=30%\n",
    "print(train.shape)\n",
    "print(test.shape)"
   ]
  },
  {
   "cell_type": "code",
   "execution_count": 79,
   "metadata": {},
   "outputs": [],
   "source": [
    "train_X = train[['SepalLengthCm','SepalWidthCm','PetalLengthCm','PetalWidthCm']]# taking the training data features\n",
    "train_y=train.Species# output of our training data\n",
    "test_X= test[['SepalLengthCm','SepalWidthCm','PetalLengthCm','PetalWidthCm']] # taking test data features\n",
    "test_y =test.Species   #output value of test data"
   ]
  },
  {
   "cell_type": "code",
   "execution_count": 80,
   "metadata": {},
   "outputs": [
    {
     "data": {
      "text/html": [
       "<div>\n",
       "<style scoped>\n",
       "    .dataframe tbody tr th:only-of-type {\n",
       "        vertical-align: middle;\n",
       "    }\n",
       "\n",
       "    .dataframe tbody tr th {\n",
       "        vertical-align: top;\n",
       "    }\n",
       "\n",
       "    .dataframe thead th {\n",
       "        text-align: right;\n",
       "    }\n",
       "</style>\n",
       "<table border=\"1\" class=\"dataframe\">\n",
       "  <thead>\n",
       "    <tr style=\"text-align: right;\">\n",
       "      <th></th>\n",
       "      <th>SepalLengthCm</th>\n",
       "      <th>SepalWidthCm</th>\n",
       "      <th>PetalLengthCm</th>\n",
       "      <th>PetalWidthCm</th>\n",
       "    </tr>\n",
       "  </thead>\n",
       "  <tbody>\n",
       "    <tr>\n",
       "      <td>111</td>\n",
       "      <td>6.4</td>\n",
       "      <td>2.7</td>\n",
       "      <td>5.3</td>\n",
       "      <td>1.9</td>\n",
       "    </tr>\n",
       "    <tr>\n",
       "      <td>78</td>\n",
       "      <td>6.0</td>\n",
       "      <td>2.9</td>\n",
       "      <td>4.5</td>\n",
       "      <td>1.5</td>\n",
       "    </tr>\n",
       "  </tbody>\n",
       "</table>\n",
       "</div>"
      ],
      "text/plain": [
       "     SepalLengthCm  SepalWidthCm  PetalLengthCm  PetalWidthCm\n",
       "111            6.4           2.7            5.3           1.9\n",
       "78             6.0           2.9            4.5           1.5"
      ]
     },
     "execution_count": 80,
     "metadata": {},
     "output_type": "execute_result"
    }
   ],
   "source": [
    "train_X.head(2)"
   ]
  },
  {
   "cell_type": "code",
   "execution_count": 81,
   "metadata": {},
   "outputs": [
    {
     "data": {
      "text/html": [
       "<div>\n",
       "<style scoped>\n",
       "    .dataframe tbody tr th:only-of-type {\n",
       "        vertical-align: middle;\n",
       "    }\n",
       "\n",
       "    .dataframe tbody tr th {\n",
       "        vertical-align: top;\n",
       "    }\n",
       "\n",
       "    .dataframe thead th {\n",
       "        text-align: right;\n",
       "    }\n",
       "</style>\n",
       "<table border=\"1\" class=\"dataframe\">\n",
       "  <thead>\n",
       "    <tr style=\"text-align: right;\">\n",
       "      <th></th>\n",
       "      <th>SepalLengthCm</th>\n",
       "      <th>SepalWidthCm</th>\n",
       "      <th>PetalLengthCm</th>\n",
       "      <th>PetalWidthCm</th>\n",
       "    </tr>\n",
       "  </thead>\n",
       "  <tbody>\n",
       "    <tr>\n",
       "      <td>19</td>\n",
       "      <td>5.1</td>\n",
       "      <td>3.8</td>\n",
       "      <td>1.5</td>\n",
       "      <td>0.3</td>\n",
       "    </tr>\n",
       "    <tr>\n",
       "      <td>74</td>\n",
       "      <td>6.4</td>\n",
       "      <td>2.9</td>\n",
       "      <td>4.3</td>\n",
       "      <td>1.3</td>\n",
       "    </tr>\n",
       "  </tbody>\n",
       "</table>\n",
       "</div>"
      ],
      "text/plain": [
       "    SepalLengthCm  SepalWidthCm  PetalLengthCm  PetalWidthCm\n",
       "19            5.1           3.8            1.5           0.3\n",
       "74            6.4           2.9            4.3           1.3"
      ]
     },
     "execution_count": 81,
     "metadata": {},
     "output_type": "execute_result"
    }
   ],
   "source": [
    "test_X.head(2)"
   ]
  },
  {
   "cell_type": "code",
   "execution_count": 82,
   "metadata": {},
   "outputs": [
    {
     "data": {
      "text/plain": [
       "111     Iris-virginica\n",
       "78     Iris-versicolor\n",
       "123     Iris-virginica\n",
       "49         Iris-setosa\n",
       "57     Iris-versicolor\n",
       "Name: Species, dtype: object"
      ]
     },
     "execution_count": 82,
     "metadata": {},
     "output_type": "execute_result"
    }
   ],
   "source": [
    "train_y.head()"
   ]
  },
  {
   "cell_type": "code",
   "execution_count": 83,
   "metadata": {},
   "outputs": [
    {
     "name": "stderr",
     "output_type": "stream",
     "text": [
      "C:\\Anaconda\\lib\\site-packages\\sklearn\\svm\\base.py:193: FutureWarning: The default value of gamma will change from 'auto' to 'scale' in version 0.22 to account better for unscaled features. Set gamma explicitly to 'auto' or 'scale' to avoid this warning.\n",
      "  \"avoid this warning.\", FutureWarning)\n"
     ]
    },
    {
     "name": "stdout",
     "output_type": "stream",
     "text": [
      "The accuracy of the SVM is: 1.0\n"
     ]
    }
   ],
   "source": [
    "model = svm.SVC() #select the algorithm\n",
    "model.fit(train_X,train_y) # we train the algorithm with the training data and the training output\n",
    "prediction=model.predict(test_X) #now we pass the testing data to the trained algorithm\n",
    "print('The accuracy of the SVM is:',metrics.accuracy_score(prediction,test_y))#now we check the accuracy of the algorithm. \n",
    "#we pass the predicted output by the model and the actual output"
   ]
  },
  {
   "cell_type": "code",
   "execution_count": 84,
   "metadata": {},
   "outputs": [
    {
     "name": "stdout",
     "output_type": "stream",
     "text": [
      "The accuracy of the Logistic Regression is 0.9555555555555556\n"
     ]
    },
    {
     "name": "stderr",
     "output_type": "stream",
     "text": [
      "C:\\Anaconda\\lib\\site-packages\\sklearn\\linear_model\\logistic.py:432: FutureWarning: Default solver will be changed to 'lbfgs' in 0.22. Specify a solver to silence this warning.\n",
      "  FutureWarning)\n",
      "C:\\Anaconda\\lib\\site-packages\\sklearn\\linear_model\\logistic.py:469: FutureWarning: Default multi_class will be changed to 'auto' in 0.22. Specify the multi_class option to silence this warning.\n",
      "  \"this warning.\", FutureWarning)\n"
     ]
    }
   ],
   "source": [
    "model = LogisticRegression()\n",
    "model.fit(train_X,train_y)\n",
    "prediction=model.predict(test_X)\n",
    "print('The accuracy of the Logistic Regression is',metrics.accuracy_score(prediction,test_y))"
   ]
  },
  {
   "cell_type": "code",
   "execution_count": 85,
   "metadata": {},
   "outputs": [
    {
     "name": "stdout",
     "output_type": "stream",
     "text": [
      "The accuracy of the Decision Tree is 0.9777777777777777\n"
     ]
    }
   ],
   "source": [
    "model=DecisionTreeClassifier()\n",
    "model.fit(train_X,train_y)\n",
    "prediction=model.predict(test_X)\n",
    "print('The accuracy of the Decision Tree is',metrics.accuracy_score(prediction,test_y))"
   ]
  },
  {
   "cell_type": "code",
   "execution_count": 86,
   "metadata": {},
   "outputs": [
    {
     "name": "stdout",
     "output_type": "stream",
     "text": [
      "The accuracy of the KNN is 1.0\n"
     ]
    }
   ],
   "source": [
    "model=KNeighborsClassifier(n_neighbors=3) #this examines 3 neighbours for putting the new data into a class\n",
    "model.fit(train_X,train_y)\n",
    "prediction=model.predict(test_X)\n",
    "print('The accuracy of the KNN is',metrics.accuracy_score(prediction,test_y))"
   ]
  },
  {
   "cell_type": "code",
   "execution_count": 88,
   "metadata": {},
   "outputs": [
    {
     "data": {
      "text/plain": [
       "([<matplotlib.axis.XTick at 0x2516d524748>,\n",
       "  <matplotlib.axis.XTick at 0x2516d52a0c8>,\n",
       "  <matplotlib.axis.XTick at 0x2516d530b48>,\n",
       "  <matplotlib.axis.XTick at 0x2516d5578c8>,\n",
       "  <matplotlib.axis.XTick at 0x2516d55b208>,\n",
       "  <matplotlib.axis.XTick at 0x2516d55b6c8>,\n",
       "  <matplotlib.axis.XTick at 0x2516d55f1c8>,\n",
       "  <matplotlib.axis.XTick at 0x2516d55fb48>,\n",
       "  <matplotlib.axis.XTick at 0x2516d55fa48>,\n",
       "  <matplotlib.axis.XTick at 0x2516d565408>],\n",
       " <a list of 10 Text xticklabel objects>)"
      ]
     },
     "execution_count": 88,
     "metadata": {},
     "output_type": "execute_result"
    },
    {
     "data": {
      "image/png": "[encoded data removed]",
      "text/plain": [
       "<Figure size 432x288 with 1 Axes>"
      ]
     },
     "metadata": {
      "needs_background": "light"
     },
     "output_type": "display_data"
    }
   ],
   "source": [
    "a_index=list(range(1,11))\n",
    "a=pd.Series()\n",
    "x=[1,2,3,4,5,6,7,8,9,10]\n",
    "for i in list(range(1,11)):\n",
    "    model=KNeighborsClassifier(n_neighbors=i) \n",
    "    model.fit(train_X,train_y)\n",
    "    prediction=model.predict(test_X)\n",
    "    a=a.append(pd.Series(metrics.accuracy_score(prediction,test_y)))\n",
    "plt.plot(a_index, a)\n",
    "plt.xticks(x)\n"
   ]
  },
  {
   "cell_type": "code",
   "execution_count": 89,
   "metadata": {},
   "outputs": [],
   "source": [
    "petal=iris[['PetalLengthCm','PetalWidthCm','Species']]\n",
    "sepal= iris[['SepalLengthCm','SepalWidthCm','Species']]"
   ]
  },
  {
   "cell_type": "code",
   "execution_count": 90,
   "metadata": {},
   "outputs": [],
   "source": [
    "train_p,test_p=train_test_split(petal,test_size=0.3,random_state=0)\n",
    "train_x_p=train_p[['PetalLengthCm','PetalWidthCm']]\n",
    "train_y_p=train_p.Species\n",
    "test_x_p=test_p[['PetalLengthCm','PetalWidthCm']]\n",
    "test_y_p=test_p.Species"
   ]
  },
  {
   "cell_type": "code",
   "execution_count": 91,
   "metadata": {},
   "outputs": [],
   "source": [
    "train_s,test_s=train_test_split(sepal,test_size=0.3,random_state=0)\n",
    "train_x_s=train_s[['SepalLengthCm','SepalWidthCm']]\n",
    "train_y_s=train_s.Species\n",
    "test_x_s=test_s[['SepalLengthCm','SepalWidthCm']]\n",
    "test_y_s=test_s.Species\n"
   ]
  },
  {
   "cell_type": "code",
   "execution_count": 92,
   "metadata": {},
   "outputs": [
    {
     "name": "stdout",
     "output_type": "stream",
     "text": [
      "The accuracy score is:  0.9777777777777777\n",
      "The accuracy is :  0.8\n"
     ]
    },
    {
     "name": "stderr",
     "output_type": "stream",
     "text": [
      "C:\\Anaconda\\lib\\site-packages\\sklearn\\svm\\base.py:193: FutureWarning: The default value of gamma will change from 'auto' to 'scale' in version 0.22 to account better for unscaled features. Set gamma explicitly to 'auto' or 'scale' to avoid this warning.\n",
      "  \"avoid this warning.\", FutureWarning)\n",
      "C:\\Anaconda\\lib\\site-packages\\sklearn\\svm\\base.py:193: FutureWarning: The default value of gamma will change from 'auto' to 'scale' in version 0.22 to account better for unscaled features. Set gamma explicitly to 'auto' or 'scale' to avoid this warning.\n",
      "  \"avoid this warning.\", FutureWarning)\n"
     ]
    }
   ],
   "source": [
    "model =svm.SVC()\n",
    "model.fit(train_x_p,train_y_p)\n",
    "prediction=model.predict(test_x_p)\n",
    "print(\"The accuracy score is: \",metrics.accuracy_score(prediction,test_y_p))\n",
    "\n",
    "model=svm.SVC()\n",
    "model.fit(train_x_s,train_y_s)\n",
    "prediction=model.predict(test_x_s)\n",
    "print(\"The accuracy is : \",metrics.accuracy_score(prediction,test_y_s))"
   ]
  },
  {
   "cell_type": "code",
   "execution_count": 93,
   "metadata": {},
   "outputs": [
    {
     "name": "stdout",
     "output_type": "stream",
     "text": [
      "The accuracy score is:  0.6888888888888889\n",
      "The accuracy is :  0.8\n"
     ]
    },
    {
     "name": "stderr",
     "output_type": "stream",
     "text": [
      "C:\\Anaconda\\lib\\site-packages\\sklearn\\linear_model\\logistic.py:432: FutureWarning: Default solver will be changed to 'lbfgs' in 0.22. Specify a solver to silence this warning.\n",
      "  FutureWarning)\n",
      "C:\\Anaconda\\lib\\site-packages\\sklearn\\linear_model\\logistic.py:469: FutureWarning: Default multi_class will be changed to 'auto' in 0.22. Specify the multi_class option to silence this warning.\n",
      "  \"this warning.\", FutureWarning)\n",
      "C:\\Anaconda\\lib\\site-packages\\sklearn\\svm\\base.py:193: FutureWarning: The default value of gamma will change from 'auto' to 'scale' in version 0.22 to account better for unscaled features. Set gamma explicitly to 'auto' or 'scale' to avoid this warning.\n",
      "  \"avoid this warning.\", FutureWarning)\n"
     ]
    }
   ],
   "source": [
    "model=LogisticRegression()\n",
    "model.fit(train_x_p,train_y_p)\n",
    "prediction=model.predict(test_x_p)\n",
    "print(\"The accuracy score is: \",metrics.accuracy_score(prediction,test_y_p))\n",
    "\n",
    "model=svm.SVC()\n",
    "model.fit(train_x_s,train_y_s)\n",
    "prediction=model.predict(test_x_s)\n",
    "print(\"The accuracy is : \",metrics.accuracy_score(prediction,test_y_s))"
   ]
  },
  {
   "cell_type": "code",
   "execution_count": 94,
   "metadata": {},
   "outputs": [
    {
     "name": "stdout",
     "output_type": "stream",
     "text": [
      "The accuracy score is:  0.9555555555555556\n",
      "The accuracy is :  0.8\n"
     ]
    },
    {
     "name": "stderr",
     "output_type": "stream",
     "text": [
      "C:\\Anaconda\\lib\\site-packages\\sklearn\\svm\\base.py:193: FutureWarning: The default value of gamma will change from 'auto' to 'scale' in version 0.22 to account better for unscaled features. Set gamma explicitly to 'auto' or 'scale' to avoid this warning.\n",
      "  \"avoid this warning.\", FutureWarning)\n"
     ]
    }
   ],
   "source": [
    "model=DecisionTreeClassifier()\n",
    "model.fit(train_x_p,train_y_p)\n",
    "prediction=model.predict(test_x_p)\n",
    "print(\"The accuracy score is: \",metrics.accuracy_score(prediction,test_y_p))\n",
    "\n",
    "model=svm.SVC()\n",
    "model.fit(train_x_s,train_y_s)\n",
    "prediction=model.predict(test_x_s)\n",
    "print(\"The accuracy is : \",metrics.accuracy_score(prediction,test_y_s))"
   ]
  },
  {
   "cell_type": "code",
   "execution_count": 95,
   "metadata": {},
   "outputs": [
    {
     "name": "stdout",
     "output_type": "stream",
     "text": [
      "The accuracy score is:  0.9777777777777777\n",
      "The accuracy is :  0.8\n"
     ]
    },
    {
     "name": "stderr",
     "output_type": "stream",
     "text": [
      "C:\\Anaconda\\lib\\site-packages\\sklearn\\svm\\base.py:193: FutureWarning: The default value of gamma will change from 'auto' to 'scale' in version 0.22 to account better for unscaled features. Set gamma explicitly to 'auto' or 'scale' to avoid this warning.\n",
      "  \"avoid this warning.\", FutureWarning)\n"
     ]
    }
   ],
   "source": [
    "model=KNeighborsClassifier(n_neighbors=3)\n",
    "model.fit(train_x_p,train_y_p)\n",
    "prediction=model.predict(test_x_p)\n",
    "print(\"The accuracy score is: \",metrics.accuracy_score(prediction,test_y_p))\n",
    "\n",
    "model=svm.SVC()\n",
    "model.fit(train_x_s,train_y_s)\n",
    "prediction=model.predict(test_x_s)\n",
    "print(\"The accuracy is : \",metrics.accuracy_score(prediction,test_y_s))"
   ]
  },
  {
   "cell_type": "code",
   "execution_count": null,
   "metadata": {},
   "outputs": [],
   "source": []
  }
 ],
 "metadata": {
  "kernelspec": {
   "display_name": "Python 3",
   "language": "python",
   "name": "python3"
  },
  "language_info": {
   "codemirror_mode": {
    "name": "ipython",
    "version": 3
   },
   "file_extension": ".py",
   "mimetype": "text/x-python",
   "name": "python",
   "nbconvert_exporter": "python",
   "pygments_lexer": "ipython3",
   "version": "3.7.4"
  }
 },
 "nbformat": 4,
 "nbformat_minor": 2
}
